{
 "cells": [
  {
   "cell_type": "code",
   "execution_count": 1,
   "id": "66f94645",
   "metadata": {},
   "outputs": [],
   "source": [
    "import os\n",
    "import codecs\n",
    "import numpy as np\n",
    "import pandas as pd\n",
    "import matplotlib.pyplot as plt\n",
    "import seaborn as sns\n",
    "from sklearn.preprocessing import StandardScaler"
   ]
  },
  {
   "cell_type": "code",
   "execution_count": 2,
   "id": "fccb896e",
   "metadata": {},
   "outputs": [
    {
     "data": {
      "text/plain": [
       "['(01451203117)Lokesh_Kumar.pdf',\n",
       " '-q31864199.html',\n",
       " '.ipynb_checkpoints',\n",
       " '.ptmp278634',\n",
       " '.ptmp435725',\n",
       " '.ptmp864803',\n",
       " '0002.jpg',\n",
       " '0003.jpg',\n",
       " '0004.jpg',\n",
       " '0005.jpg',\n",
       " '0006.jpg',\n",
       " '0007.jpg',\n",
       " '0008.jpg',\n",
       " '0009.jpg',\n",
       " '0010.jpg',\n",
       " '0011.jpg',\n",
       " '0012.jpg',\n",
       " '0013.jpg',\n",
       " '0014.jpg',\n",
       " '0015.jpg',\n",
       " '0016.jpg',\n",
       " '0017.jpg',\n",
       " '0018.jpg',\n",
       " '0019.jpg',\n",
       " '0020.jpg',\n",
       " '0021.jpg',\n",
       " '01451203117_LokeshKumar_ContinuousLearning.docx',\n",
       " '01451203117_LokeshKumar_ContinuousLearning.pdf',\n",
       " '015033-Khayati Chadha-Long Report - Khayati Chadha.pdf',\n",
       " '025002_BA-1.xlsx',\n",
       " '025005',\n",
       " '025005 (2).pdf',\n",
       " '025005-CF.pdf',\n",
       " '025005-CSR.pdf',\n",
       " '025005-HRM.pdf',\n",
       " '025005-SM.pdf',\n",
       " '025005.pdf',\n",
       " '025005_Akshay Vashistha (1).docx',\n",
       " '025005_Akshay Vashistha .docx',\n",
       " '025005_Akshay Vashistha.docx',\n",
       " '025005_Akshay Vashistha.pdf',\n",
       " '025005_Akshay vashistha.xlsx',\n",
       " '025005_Akshay vashistha_ WAC .docx',\n",
       " '025005_Akshay Vashistha_Final.pdf',\n",
       " '025005_Akshay Vashistha_Mmquiz2.pdf',\n",
       " '025005_Akshay_OMDM.xlsx',\n",
       " '025005_BA-1 (1).xlsx',\n",
       " '025005_BA-1.xlsx',\n",
       " '025005_ecs',\n",
       " '025005_ecs.pdf',\n",
       " '025005_FA.pdf',\n",
       " '025005_Facebook_Press release -converted (1).pdf',\n",
       " '025005_Facebook_Press release -converted.pdf',\n",
       " '025005_HBO.pdf',\n",
       " '025005_long report.pdf',\n",
       " '025005_long report_WIP.pdf',\n",
       " '025005_MC.pdf',\n",
       " '025005_ME.pdf',\n",
       " '025005_MM.pdf',\n",
       " '025005_OMDM.pdf',\n",
       " '025005_OMDM.xlsx',\n",
       " '025005_WAC_PACADI.pdf',\n",
       " '025021-FINAL DRAFT-LONG BUSINESS REPORT (1).pdf',\n",
       " '025021-FINAL DRAFT-LONG BUSINESS REPORT.pdf',\n",
       " '025021-WAC-LONG BUSINESS REPORT.docx',\n",
       " '025021_WAC_PACADI.pdf',\n",
       " '025030_ECS.pdf',\n",
       " '025040_WAC_FB_Press Release.pdf',\n",
       " '025041_Yogesh Sachdeva_OMDM_Quiz.xlsx',\n",
       " '025046_Akhil Sharma_WAC_20_12_21.pdf',\n",
       " '1-s2.0-S1877050915029002-main.pdf',\n",
       " '130017401614109_report.pdf',\n",
       " '14273689_bylxxxxx6b_A1.pdf',\n",
       " '1513310691514.png',\n",
       " '1592279426197.png',\n",
       " '1607965361361.doc',\n",
       " '1607965361361.pdf',\n",
       " '1_Computer_Vison',\n",
       " '2005939248.pdf',\n",
       " '20102021_1_Financial Accounting.pdf',\n",
       " '20102021_2_Optimization Models for Decision Making.pdf',\n",
       " '20162666.pdf',\n",
       " '2021-03-07-15-09-18-402_BYLPS9706B_2020_.pdf',\n",
       " '2021-03-07-15-24-24-053_BYLPS9706B_2020_.pdf',\n",
       " '21102021_1_Marketing Management I.pdf',\n",
       " '21102021_2_Managerial Economics.pdf',\n",
       " '22102021_!_Human Behaviour in Organizations.pdf',\n",
       " '2435147-bigthumbnail.jpg',\n",
       " '25005_WAC_Facebook PACADI Analysis-converted.pdf',\n",
       " '25102021_1_Business Analytics -I (1).xlsx',\n",
       " '25102021_1_Business Analytics -I (3).xlsx',\n",
       " '25102021_1_Business Analytics -I.xlsx',\n",
       " '2516889020.pdf',\n",
       " '26647690.pdf',\n",
       " '271071_WAC Business Report.docx',\n",
       " '291121_Ankur Singh_WAC_BusinessProposal.pdf',\n",
       " '3.1.xlsx',\n",
       " '32ba7b49-f4ec-4c4a-b8e6-b1cd2d75ed30-01.jpeg',\n",
       " '40064756306338.pdf',\n",
       " '5-indian_food.csv',\n",
       " '528487b2-db38-4593-ae31-d83ec859a04d(1).jpg',\n",
       " '6309(1).docx',\n",
       " '6309.docx',\n",
       " '7be7c7622205b90e83cc2ac252fa282a.jpg',\n",
       " '809840a9-b21e-473d-bc40-58d6c7fdb2b4.pdf',\n",
       " '909A02-PDF-ENG.pdf',\n",
       " 'a1.xlsx',\n",
       " 'Aadhar- Akshay -converted.pdf',\n",
       " 'Acknowledgement-Reprint-Reciept-2020-09-05__123344.pdf',\n",
       " 'adhar.pdf',\n",
       " 'AdobeColor-Material Colors.jpeg',\n",
       " 'Advertising.csv',\n",
       " 'AIC.pdf',\n",
       " 'Akshay vashistha_CSR_G_05',\n",
       " 'AlgorithmsNotesForProfessionals.pdf',\n",
       " 'Amlan.xlsx',\n",
       " 'amsl-financials-fy-21.pdf',\n",
       " 'Anaconda3-2021.05-Windows-x86_64.exe',\n",
       " 'Analytics 1 Master View Location 20201225-20201231.pdf',\n",
       " 'Android',\n",
       " 'Annexure – I.pdf',\n",
       " 'Anser.xlsx',\n",
       " 'application-form.pdf',\n",
       " 'ASN_Mid Term.pdf',\n",
       " 'auto-mpg.data',\n",
       " 'AV- revised SOP (1).docx',\n",
       " 'AV- revised SOP.docx',\n",
       " 'B362H97ApplicationForm(1).pdf',\n",
       " 'B362H97ApplicationForm.pdf',\n",
       " 'BAB166-PDF-ENG.pdf',\n",
       " 'Background for Teams (1).png',\n",
       " 'Background for Teams.png',\n",
       " 'Background of CSR.pdf',\n",
       " 'Background.png',\n",
       " 'BAIQuestion2.xlsx',\n",
       " 'BAIQuestion3.xlsx',\n",
       " 'BAIQuestion6.xlsx',\n",
       " 'BankChurners.csv',\n",
       " 'BankChurners.csv.zip',\n",
       " 'bf253bdd-ec6e-4c05-8861-58cb660affc6Personal_Detail_Form-SE_Cadre(2).pdf',\n",
       " 'bf253bdd-ec6e-4c05-8861-58cb660affc6Personal_Detail_Form-SE_Cadre.pdf',\n",
       " 'BH_EU_05-Long.pdf',\n",
       " 'BLI-225.PDF',\n",
       " 'blog',\n",
       " 'bobby-fischer-teaches-chess.pdf',\n",
       " 'bootstrap-5.1.1-examples.zip',\n",
       " 'C++',\n",
       " 'C18-1133.pdf',\n",
       " 'cacert.der',\n",
       " 'CandidateHallTicket.pdf',\n",
       " 'Capture.JPG',\n",
       " 'CAT-2019-slot1-answer-key.pdf',\n",
       " 'CAT-2019-slot2-answer-key.pdf',\n",
       " 'CAT_Lokesh.pdf',\n",
       " 'Certification.xd',\n",
       " 'chernobylite-horror-video-game-2019-wallpaper-20707_L.jpg',\n",
       " 'CHSL_FEE.pdf',\n",
       " 'Class18_Altairnotebook.ipynb',\n",
       " 'Class18_geograhic data.ipynb',\n",
       " 'CLASS_X_4_8_12(Hindi).pdf',\n",
       " 'CLASS_X_4_8_12.pdf',\n",
       " 'co2.csv',\n",
       " 'Complete List of Elective Courses (2).pdf',\n",
       " 'Consult Club IIMA Casebook - 2018.pdf',\n",
       " 'Copy of Case Analysis_Section G.xlsx',\n",
       " 'Corporate Finance_06122021.pdf',\n",
       " 'Corporate Social Responsibility (CSR) and Sustainability_09122021.pdf',\n",
       " 'course_reader.pdf',\n",
       " 'CPlusPlusNotesForProfessionals.pdf',\n",
       " 'Cracking the Coding Interview 189 Programming Questions and Solutions.pdf',\n",
       " 'CT20203091107_Application.pdf',\n",
       " 'CT20203091107_OL(1).pdf',\n",
       " 'CT20203091107_OL.pdf',\n",
       " 'cybersecurity-certification-training-1.pdf',\n",
       " 'D18-1508.pdf',\n",
       " 'd1c955bf77e841fdc2fe48b8581339b13cfe85b99ed873af3070fc6a9a5b711f3204f46a5631047118d4b95b12b0539e19f1ee5e29c0e589ad8686d34e81053210057_1615796584(1).pdf',\n",
       " 'd1c955bf77e841fdc2fe48b8581339b13cfe85b99ed873af3070fc6a9a5b711f3204f46a5631047118d4b95b12b0539e19f1ee5e29c0e589ad8686d34e81053210057_1615796584.pdf',\n",
       " 'd6j6cqv-7c826e17-328a-4a07-ba81-0434754a0372.png',\n",
       " 'Data Files-20210915T173600Z-001.zip',\n",
       " 'deedy-cv.pdf',\n",
       " 'delhi_weather_data (1).zip',\n",
       " 'delhi_weather_data (2).zip',\n",
       " 'delhi_weather_data.zip',\n",
       " 'desktop.ini',\n",
       " 'Details.xlsx',\n",
       " 'DHBVN_Bill_Dongra.pdf',\n",
       " 'Disease-prediction-using-Machine-Learning-master.zip',\n",
       " 'document.pdf',\n",
       " 'DSLSBill.pdf',\n",
       " 'ecs calculator (1).xlsx',\n",
       " 'ecs calculator.xlsx',\n",
       " 'Edit.docx',\n",
       " 'Elective Choice Guidelines (2).pdf',\n",
       " 'ENG_14_15.pdf',\n",
       " 'epfo(1).pdf',\n",
       " 'epfo.pdf',\n",
       " 'ET 2018-19.pdf',\n",
       " 'ET 2019-20 (1).pdf',\n",
       " 'ET 2019-20.pdf',\n",
       " 'ETIT-401_20.docx',\n",
       " 'Ex-02-Operations Strategy.docx',\n",
       " 'ex6_df.png',\n",
       " 'exp 5.pdf',\n",
       " 'exp1.pdf',\n",
       " 'exp2.pdf',\n",
       " 'exp3.pdf',\n",
       " 'exp4.pdf',\n",
       " 'exp6.jpg',\n",
       " 'exp6_du.png',\n",
       " 'exp6_free_iostat.png',\n",
       " 'exp6_mp_vmstat.png',\n",
       " 'extractcolor.png',\n",
       " 'FACEBOOK PACADI-3.pdf',\n",
       " 'factor-trait-report_lokesh-kumar.pdf',\n",
       " 'FCD CV Rectification.xlsx',\n",
       " 'Field Notes_FGD_Delhi Males_21 02 2021.xlsx',\n",
       " 'File 7.ipynb',\n",
       " 'fillthecube.cpp',\n",
       " 'final BUSINESS REPORT.docx',\n",
       " 'Final Project Report.pdf',\n",
       " 'Final Research Paper Pneumonia Detection using Convolutional Neural Networks group no. 20.pdf',\n",
       " 'Final Stimulus to be used.pptx',\n",
       " 'FINAL SUMMER TRAINING REPORT(1).pdf',\n",
       " 'FINAL SUMMER TRAINING REPORT.pdf',\n",
       " 'FIRO B Score Interpretation.pdf',\n",
       " 'Flora.and.Ulysses.2021.720p.DSNP.WEBRip.DDP5.1.Atmos.x264-TOMMY',\n",
       " 'FMS_Casebook_20-21.pdf',\n",
       " 'Form 27A_01_04_2015.pdf',\n",
       " 'Form_pdf_424713650251221.pdf',\n",
       " 'FreeTutorialsUS.com-Udemy-Python-for-Computer-Vision-with-OpenCV-and-Deep-Learning.torrent',\n",
       " 'Front-end Developer Handbook 2019.pdf',\n",
       " 'Full_Report_WCA_271119.docx',\n",
       " 'G7_ITC Scissors.pptx',\n",
       " 'gapminder.csv',\n",
       " 'GATE_ATTEMPT_2021.pdf',\n",
       " 'GeeksforGeeks',\n",
       " 'General-20211026_163851-Meeting Recording.mp4',\n",
       " 'General-20211028_091307-Meeting Recording (1).mp4',\n",
       " 'General-20211028_091307-Meeting Recording.mp4',\n",
       " 'General-20211102_110321-Meeting Recording.mp4',\n",
       " 'GitHubDesktopSetup-x64.exe',\n",
       " 'Goleman_What-makes-a-leader.pdf',\n",
       " 'googlehackers.pdf',\n",
       " 'Great Learning',\n",
       " 'Greenshot-INSTALLER-1.2.10.6-RELEASE.exe',\n",
       " 'Group-5-Chatterjee_Core_Objectives_2005_to discuss in competitive strategy.pdf',\n",
       " 'Guesstimates.docx',\n",
       " 'Guided Projects',\n",
       " 'gym app',\n",
       " 'gym app.zip',\n",
       " 'happy.jpg',\n",
       " 'Harshita Arora_301025_CSR.pdf',\n",
       " 'HIN_14_15.pdf',\n",
       " 'HK1127-PDF-ENG.pdf',\n",
       " 'How to prepare for Quantitative - Arun Sharma-1 ( PDFDrive ).pdf',\n",
       " 'hpi_data_countries.tsv',\n",
       " 'HRM',\n",
       " 'Human Emotion Synopsis.docx',\n",
       " 'Human Emotion Synopsis.pdf',\n",
       " 'Human Resources Management_08122021_2.pdf',\n",
       " 'HVPE 8th Sem ETHS 402 Question Paper.pdf',\n",
       " 'Icon Casebook - Final Placements 2021.pdf',\n",
       " 'icpc.pdf',\n",
       " 'idoc.pub_airtel-postpaid-bill.pdf',\n",
       " 'IGNOU_FORM.pdf',\n",
       " 'images.jpg',\n",
       " 'IMG-20201004-WA0022.jpg',\n",
       " 'IMG_20190530_141540-02-01.jpeg',\n",
       " 'IMG_20190530_141540-02.jpg',\n",
       " 'IMG_20200102_170127.jpg',\n",
       " 'IMG_20200608_170727_407.jpg',\n",
       " 'IMG_20201214_202916(1).jpg',\n",
       " 'IMG_20201214_202916.jpg',\n",
       " 'IMG_20210508_164036.jpg',\n",
       " 'in.gov.cbse-HSCER-147288742020.pdf',\n",
       " 'in.gov.uidai-ADHAR-204615075459.pdf',\n",
       " 'index.html',\n",
       " 'Infosys_Certified_Software_Programmer-Java.pdf',\n",
       " 'Internshala Training',\n",
       " 'Internship_CyPAD.docx',\n",
       " 'Internship_letter_application.pdf',\n",
       " 'Internship_Recommendation_Request_Letter.pdf',\n",
       " 'Internship_Recommendation_Request_Letter_or_Bonafide.pdf',\n",
       " 'Invoice_June_LSLS_2(1).xlsx',\n",
       " 'Invoice_Moderation for Project Grey_3rd Jan 2022 (1) (1).xlsx',\n",
       " 'Invoice_Moderation for Project Grey_3rd Jan 2022 (1).xlsx',\n",
       " 'Invoice_Moderation for Project Grey_3rd Jan 2022.xlsx',\n",
       " 'ITS_Train_025012.xlsx',\n",
       " 'Jaggia4e_PPT_All_Chapters.zip',\n",
       " 'jeep202.pdf',\n",
       " 'jeep203.pdf',\n",
       " 'jeep204.pdf',\n",
       " 'jeep205.pdf',\n",
       " 'jeep213.pdf',\n",
       " 'jeep2an.pdf',\n",
       " 'jhep202.pdf',\n",
       " 'jhep203.pdf',\n",
       " 'jhep204.pdf',\n",
       " 'jhep213.pdf',\n",
       " 'jhmh115.pdf',\n",
       " 'Job Analysis (2021).ppt',\n",
       " 'Johari_Window (1).pdf',\n",
       " 'Johari_Window (2).pdf',\n",
       " 'Johari_Window.pdf',\n",
       " 'Joining Kit- GET Batch',\n",
       " 'Joining Kit- GET Batch.zip',\n",
       " 'lect04.pdf',\n",
       " 'lecture',\n",
       " 'Lecture18_DEVP.ipynb',\n",
       " 'linux-admin-1.pdf',\n",
       " 'linuxcommands.pdf',\n",
       " 'Logical Chess_ Move By Move_ Every Move Explained New Algebraic Edition   ( PDFDrive.com ).pdf',\n",
       " 'logo.png',\n",
       " 'logo2.png',\n",
       " 'logo3.png',\n",
       " 'Lokesh Kumar -Appointment Letter.pdf',\n",
       " 'lokesh kumar.pdf',\n",
       " 'LokeshKumar_BVCOE_Cognizant_compressed.pdf',\n",
       " 'LokeshKumar_BVCOE_Documents.pdf',\n",
       " 'LokeshKumar_BVCOE_GET.zip',\n",
       " 'LokeshKumar_BVCOE_Resume(1).pdf',\n",
       " 'LokeshKumar_BVCOE_Resume(2).pdf',\n",
       " 'LokeshKumar_BVCOE_Resume.pdf',\n",
       " 'LokeshMobileBillApr.pdf',\n",
       " 'LokeshMobileBillFeb.pdf',\n",
       " 'LokeshMobileBillJanuary.pdf',\n",
       " 'LokeshMobileBillMar.pdf',\n",
       " 'Lokesh_0145123117.docx.pdf',\n",
       " 'lokesh_dated.jpeg',\n",
       " 'lokesh_dated2.jpeg',\n",
       " 'lokesh_dated2.jpg',\n",
       " 'lokesh_photo_face.jpg',\n",
       " 'Lokesh_Resume.pdf',\n",
       " 'Lokesh_Resume.zip',\n",
       " 'lokesh_sign(1).jpg',\n",
       " 'lokesh_sign.jpg',\n",
       " 'Lokesh_SNAExp5_01451203117.pdf',\n",
       " 'Lokesh_SNAExp6_01451203117.pdf',\n",
       " 'LSC2.pdf',\n",
       " 'Master Training + Certification Guide.pdf',\n",
       " 'MATHS_(041)_SET_30_1_1,2,3_CLASS_X_MARKING_SCHEME_2020.pdf',\n",
       " 'maxresdefault.jpg',\n",
       " 'MayankMobileBillFeb.pdf',\n",
       " 'MayankMobileBillJan.pdf',\n",
       " 'MayankMobileBillMarch.pdf',\n",
       " 'MC-PAPER-APRIL-2021.docx.pdf',\n",
       " 'ME Sec F & G M.pdf',\n",
       " 'me.jpg',\n",
       " 'me2.jpg',\n",
       " 'Meeting in _General_-20211108_142322-Meeting Recording.mp4',\n",
       " 'metronome.png',\n",
       " 'metronomecolor.png',\n",
       " 'metronomecolor2.png',\n",
       " 'ME_Final Score.xls',\n",
       " 'me_up.jpg',\n",
       " 'MicrosoftTeams-image.png',\n",
       " 'mid term paper 2021 (1).pdf',\n",
       " 'mid term paper 2021.pdf',\n",
       " 'MIGRATION_CERTI_DIGILOCKER.pdf',\n",
       " 'MLQUEST',\n",
       " 'ML_DL',\n",
       " 'MM GA case study.pdf',\n",
       " 'Monktree_Project.xd',\n",
       " 'Mortal Kombat Legends Battle Of The Realms (2021) [1080p] [BluRay] [5.1] [YTS.MX]',\n",
       " 'Mr Nobody (2009)',\n",
       " 'NDA_PausePlay_Lokesh.pdf',\n",
       " 'NDA_PausePlay_Lokesh_signed.pdf',\n",
       " 'New Doc 2019-10-31 11.18.37.pdf',\n",
       " 'New folder',\n",
       " 'Nichola Lacey - Python by Example_ Learning to Program in 150.pdf',\n",
       " 'Non-GST Invoice -  Samudaay.docx',\n",
       " 'Non-GST Invoice -  Scarlet (1) (1).docx',\n",
       " 'Non-GST Invoice -  Scarlet (1).docx',\n",
       " 'Non-GST Invoice -  Scarlet.docx',\n",
       " 'Non-GST Invoice -  Thalaiva.docx',\n",
       " 'notebook.pdf',\n",
       " 'NRX4176764.pdf',\n",
       " 'Ouriginal Report - 025005_long report.docx (D124105836).pdf',\n",
       " 'outputwc.pdf',\n",
       " 'OU_1Z0-931-Autonomous-Database-Specialist-2019-Exam-Prep-Guide.pdf',\n",
       " 'Pan.pdf',\n",
       " 'PARI _ Reliance Foundation _ MI 3.0 _ In Depth Interviews _ Discussion Guide _ V2.docx',\n",
       " 'PARI_Reliance Foundation_MI 3.0 _Conflict Groups _Discussion Guide _V1.docx',\n",
       " 'Passbook_Front_Page.pdf',\n",
       " 'Performance Management and Appraisal (2021) (1).pptx',\n",
       " 'Performance Management and Appraisal (2021).pptx',\n",
       " 'Personal_Detail_Form-SE_Cadre_Filled.pdf',\n",
       " 'PGDAV - FEES.pdf',\n",
       " 'PicsArt_04-15-03.36.25.jpg',\n",
       " 'PicsArt_12-12-01.39.09.jpg',\n",
       " 'Presentation (3).pptx',\n",
       " 'Project  (1).ipynb',\n",
       " 'Project .ipynb',\n",
       " 'PROJECT.pdf',\n",
       " 'Projectdatasets_DEVP.rar',\n",
       " 'Puma Report (1).docx',\n",
       " 'Question Paper soft computing (2).pdf',\n",
       " 'Rape_Datasets',\n",
       " 'ReadMe.txt',\n",
       " 'Refactored_Py_DS_ML_Bootcamp-master',\n",
       " 'Report.pdf',\n",
       " 'Rishab Csr.docx',\n",
       " 'rsz_11sign.jpg',\n",
       " 'rsz_2thumb.jpg',\n",
       " 'rsz_2thumb2.jpg',\n",
       " 'rsz_3me.jpg',\n",
       " 'rsz_mesign2.jpg',\n",
       " 'Savings_Stmt_31032114140.pdf',\n",
       " 'Savings_Stmt_31032114243(1).pdf',\n",
       " 'Savings_Stmt_31032114243.pdf',\n",
       " 'SBISecurities - Product Manual Client.pdf',\n",
       " 'Scan 05-Dec-2020.pdf',\n",
       " 'Scan 18-Oct-2020.pdf',\n",
       " 'Session 1 introduction.pdf',\n",
       " 'Session 11_MM 1_Term 1_16-09-21.pdf',\n",
       " 'Session 12.ipynb',\n",
       " 'Session 13_seaborn.ipynb',\n",
       " 'Session 13_Services Marketing_27-09-2021.pdf',\n",
       " 'session 14_15.ipynb',\n",
       " 'Session 15_MM 1_Term 1_01-10-21 (1).pdf',\n",
       " 'Session 15_MM 1_Term 1_01-10-21.pdf',\n",
       " 'Session 16.ipynb',\n",
       " 'Session 17_MM 1_Term 1_08-10-21 (1).pdf',\n",
       " 'Session 17_MM 1_Term 1_08-10-21.pdf',\n",
       " 'Sessions_3-4_Basics of Probability-BA-I_Aug 2021 S (1) (1).pdf',\n",
       " 'Sessions_3-4_Basics of Probability-BA-I_Aug 2021 S (1).pdf',\n",
       " 'Sessions_3-4_Basics of Probability-BA-I_Aug 2021 S.pdf',\n",
       " 'Sessions_5-6_Discrete Probability Distb-BA-I_Aug 2021 (1).pdf',\n",
       " 'Sessions_5-6_Discrete Probability Distb-BA-I_Aug 2021.pdf',\n",
       " 'Sessions_7-8_Continous Probability Distb-BA-I_Aug 2021.pdf',\n",
       " 'Sessions_9_Sampling Distributions-BA-I_Sept 2021.pdf',\n",
       " 'Shubham Mal (1).xlsx',\n",
       " 'Shubham Mal.xlsx',\n",
       " 'SI. No.  IPUCONV-XIII01710399.pdf',\n",
       " 'Sign.jpg',\n",
       " 'SNA practical assignments.pdf',\n",
       " 'SNA_ASSIGN2_LokeshKumar.pdf',\n",
       " 'SNA_EXP1.pdf',\n",
       " 'SNA_EXP2.pdf',\n",
       " 'SNA_EXP3.pdf',\n",
       " 'SNA_EXP4.pdf',\n",
       " 'Soul.2020.WEBRip.x264-ION10',\n",
       " 'splnproc1703.zip',\n",
       " 'SPSSStatistics.exe',\n",
       " 'sql-essentials-training-SP1.0.pdf',\n",
       " 'Statement.pdf',\n",
       " 'Strategic Management_07122021.pdf',\n",
       " 'Submission Links.pdf',\n",
       " 'Synopsis Points.docx',\n",
       " 'Teal and Yellow Flowers Summer Quotes Poster.jpg',\n",
       " 'TeamsSetupx64_s_8D9ABFE60C4A113-7-0_.exe',\n",
       " 'ten.jpg',\n",
       " 'ten.pdf',\n",
       " 'Term_VI_1639551725',\n",
       " 'Term_VI_1639619262 (1)',\n",
       " 'Term_VI_1639619262.pdf',\n",
       " 'Term_VI_1640058431',\n",
       " 'tf00546271_win32.dotx',\n",
       " 'tf33816397_win32.dotx',\n",
       " 'tf66908779_win32.dotx',\n",
       " 'tf89616653_win32.dotx',\n",
       " 'thoughtworks.cpp',\n",
       " 'thumb-1920-552086.jpg',\n",
       " 'thumb.jpg',\n",
       " 'Time Table-Term-2 (Pre Mid Term)-Week 3 to 6.pdf',\n",
       " 'Total Red_Delhi.pptx',\n",
       " 'TQGojM.jpg',\n",
       " 'train.csv',\n",
       " 'train.xlsx',\n",
       " 'train_301102.xlsx',\n",
       " 'Transaction Analysis (Basic Theory).pdf',\n",
       " 'twelwe.jpg',\n",
       " 'twelwe.pdf',\n",
       " 'two.jpg',\n",
       " 'Unit-2 Mobile computing-Architecture.pdf',\n",
       " 'Untitled document.docx',\n",
       " 'Untitled document.pdf',\n",
       " 'VE00YM235_FEB_2021-merged.pdf',\n",
       " 'VE00YM235_FEB_2021.pdf',\n",
       " 'VE00YM235_JAN_2021-merged.pdf',\n",
       " 'VE00YM235_JAN_2021.pdf',\n",
       " 'VE00YM235_MAR_2021-merged.pdf',\n",
       " 'VE00YM235_MAR_2021.pdf',\n",
       " 'vhg-nwdj-mes (2021-11-28 at 01_58 GMT-8).mp4',\n",
       " 'Vijay_0235123117.pdf',\n",
       " 'vlc-3.0.16-win32.exe',\n",
       " 'Vol 1-2008.pdf',\n",
       " 'W14434-PDF-ENG.pdf',\n",
       " 'W14435-PDF-ENG.pdf',\n",
       " 'W14530-PDF-ENG.pdf',\n",
       " 'WAC Long Report, Manul Rastogi-converted.docx',\n",
       " 'WAC Long Report, Manul Rastogi.docx',\n",
       " 'WAC Long Report, Manul Rastogi.pdf',\n",
       " 'WAC LR.docx',\n",
       " 'WAC PPT.pptx',\n",
       " 'wcnc99_haas_deng.pdf',\n",
       " 'webex.exe',\n",
       " 'welcome.png',\n",
       " 'WhatsApp Image 2020-01-02 at 4.50.45 PM.jpeg',\n",
       " 'WhatsApp Image 2020-01-02 at 4.53.59 PM.jpeg',\n",
       " 'WhatsApp Image 2020-07-19 at 4.35.05 PM.jpeg',\n",
       " 'WhatsApp Image 2020-09-09 at 2.54.07 PM.jpeg',\n",
       " 'WhatsApp Image 2020-09-16 at 3.10.00 PM.jpeg',\n",
       " 'WhatsApp Image 2020-12-21 at 3.16.21 PM.jpeg',\n",
       " 'WhatsApp Image 2021-01-13 at 9.42.11 AM.jpeg',\n",
       " 'WhatsApp Image 2021-04-28 at 10.04.27 AM.jpeg',\n",
       " 'WhatsApp Image 2021-10-20 at 10.07.35 PM.jpeg',\n",
       " 'WhatsApp Image 2022-01-07 at 10.03.28 PM (1).jpeg',\n",
       " 'WhatsApp Image 2022-01-07 at 10.03.28 PM.jpeg',\n",
       " 'WhatsApp Image 2022-01-07 at 9.59.54 PM (1).jpeg',\n",
       " 'WhatsApp Image 2022-01-07 at 9.59.54 PM.jpeg',\n",
       " 'Wipro_BoardingPass.pdf',\n",
       " 'XII_MARKSHEET.pdf',\n",
       " 'XII_MARKSHEET_DIGILOCKER.pdf',\n",
       " 'X_MARKSHEET.pdf',\n",
       " 'X_MARKSHEET_DIGILOCKER.pdf',\n",
       " 'y.png',\n",
       " 'yamaha.png',\n",
       " 'yamaha2.jpeg',\n",
       " 'yamanresized.jpg',\n",
       " 'YM235-NewspaperBill-April-2021(1).pdf',\n",
       " 'YM235-NewspaperBill-April-2021.pdf',\n",
       " 'YM235_FEB_2021-unlocked.pdf',\n",
       " 'YM235_JAN_2021-unlocked.pdf',\n",
       " 'youtube banner .png',\n",
       " 'youtube banner 1 .png',\n",
       " 'youtube banner 2 .png',\n",
       " 'youtube banner 3 .png',\n",
       " 'youtube banner 4 .png',\n",
       " 'youtube.jpg',\n",
       " 'ZS',\n",
       " 'zzzzzzzzzzzzzzzzzzyaman.jpg',\n",
       " 'zzzzzzzzzzzzzzzzzzyaman.png',\n",
       " '[FreeCourseSite.com] Udemy - 100 Algorithms Challenge',\n",
       " '[FreeCourseSite.com] Udemy - Data Structures & Algorithms !',\n",
       " '[FreeCourseSite.com] Udemy - Data Structures and Algorithms in C++ For Coding Interview',\n",
       " '~$-02-Operations Strategy.docx',\n",
       " '~$n-GST Invoice -  Aplya family.docx',\n",
       " '~$RI_Reliance Foundation_MI 3.0 _Conflict Groups _Discussion Guide _V1.docx',\n",
       " '~WRL0285.tmp']"
      ]
     },
     "execution_count": 2,
     "metadata": {},
     "output_type": "execute_result"
    }
   ],
   "source": [
    "os.listdir()"
   ]
  },
  {
   "cell_type": "code",
   "execution_count": 3,
   "id": "5c0ff69f",
   "metadata": {},
   "outputs": [],
   "source": [
    "df=pd.read_csv(\"C:\\\\Users\\\\loket\\\\Downloads\\\\5-indian_food.csv\")"
   ]
  },
  {
   "cell_type": "code",
   "execution_count": 4,
   "id": "c18f332e",
   "metadata": {},
   "outputs": [
    {
     "data": {
      "text/html": [
       "<div>\n",
       "<style scoped>\n",
       "    .dataframe tbody tr th:only-of-type {\n",
       "        vertical-align: middle;\n",
       "    }\n",
       "\n",
       "    .dataframe tbody tr th {\n",
       "        vertical-align: top;\n",
       "    }\n",
       "\n",
       "    .dataframe thead th {\n",
       "        text-align: right;\n",
       "    }\n",
       "</style>\n",
       "<table border=\"1\" class=\"dataframe\">\n",
       "  <thead>\n",
       "    <tr style=\"text-align: right;\">\n",
       "      <th></th>\n",
       "      <th>name</th>\n",
       "      <th>ingredients</th>\n",
       "      <th>diet</th>\n",
       "      <th>prep_time</th>\n",
       "      <th>cook_time</th>\n",
       "      <th>flavor_profile</th>\n",
       "      <th>course</th>\n",
       "      <th>state</th>\n",
       "      <th>region</th>\n",
       "    </tr>\n",
       "  </thead>\n",
       "  <tbody>\n",
       "    <tr>\n",
       "      <th>0</th>\n",
       "      <td>Balu shahi</td>\n",
       "      <td>Maida flour, yogurt, oil, sugar</td>\n",
       "      <td>vegetarian</td>\n",
       "      <td>45</td>\n",
       "      <td>25</td>\n",
       "      <td>sweet</td>\n",
       "      <td>dessert</td>\n",
       "      <td>West Bengal</td>\n",
       "      <td>East</td>\n",
       "    </tr>\n",
       "    <tr>\n",
       "      <th>1</th>\n",
       "      <td>Boondi</td>\n",
       "      <td>Gram flour, ghee, sugar</td>\n",
       "      <td>vegetarian</td>\n",
       "      <td>80</td>\n",
       "      <td>30</td>\n",
       "      <td>sweet</td>\n",
       "      <td>dessert</td>\n",
       "      <td>Rajasthan</td>\n",
       "      <td>West</td>\n",
       "    </tr>\n",
       "    <tr>\n",
       "      <th>2</th>\n",
       "      <td>Gajar ka halwa</td>\n",
       "      <td>Carrots, milk, sugar, ghee, cashews, raisins</td>\n",
       "      <td>vegetarian</td>\n",
       "      <td>15</td>\n",
       "      <td>60</td>\n",
       "      <td>sweet</td>\n",
       "      <td>dessert</td>\n",
       "      <td>Punjab</td>\n",
       "      <td>North</td>\n",
       "    </tr>\n",
       "    <tr>\n",
       "      <th>3</th>\n",
       "      <td>Ghevar</td>\n",
       "      <td>Flour, ghee, kewra, milk, clarified butter, su...</td>\n",
       "      <td>vegetarian</td>\n",
       "      <td>15</td>\n",
       "      <td>30</td>\n",
       "      <td>sweet</td>\n",
       "      <td>dessert</td>\n",
       "      <td>Rajasthan</td>\n",
       "      <td>West</td>\n",
       "    </tr>\n",
       "    <tr>\n",
       "      <th>4</th>\n",
       "      <td>Gulab jamun</td>\n",
       "      <td>Milk powder, plain flour, baking powder, ghee,...</td>\n",
       "      <td>vegetarian</td>\n",
       "      <td>15</td>\n",
       "      <td>40</td>\n",
       "      <td>sweet</td>\n",
       "      <td>dessert</td>\n",
       "      <td>West Bengal</td>\n",
       "      <td>East</td>\n",
       "    </tr>\n",
       "  </tbody>\n",
       "</table>\n",
       "</div>"
      ],
      "text/plain": [
       "             name                                        ingredients  \\\n",
       "0      Balu shahi                    Maida flour, yogurt, oil, sugar   \n",
       "1          Boondi                            Gram flour, ghee, sugar   \n",
       "2  Gajar ka halwa       Carrots, milk, sugar, ghee, cashews, raisins   \n",
       "3          Ghevar  Flour, ghee, kewra, milk, clarified butter, su...   \n",
       "4     Gulab jamun  Milk powder, plain flour, baking powder, ghee,...   \n",
       "\n",
       "         diet  prep_time  cook_time flavor_profile   course        state  \\\n",
       "0  vegetarian         45         25          sweet  dessert  West Bengal   \n",
       "1  vegetarian         80         30          sweet  dessert    Rajasthan   \n",
       "2  vegetarian         15         60          sweet  dessert       Punjab   \n",
       "3  vegetarian         15         30          sweet  dessert    Rajasthan   \n",
       "4  vegetarian         15         40          sweet  dessert  West Bengal   \n",
       "\n",
       "  region  \n",
       "0   East  \n",
       "1   West  \n",
       "2  North  \n",
       "3   West  \n",
       "4   East  "
      ]
     },
     "execution_count": 4,
     "metadata": {},
     "output_type": "execute_result"
    }
   ],
   "source": [
    "df.head()"
   ]
  },
  {
   "cell_type": "code",
   "execution_count": 5,
   "id": "18fe113e",
   "metadata": {},
   "outputs": [
    {
     "data": {
      "text/html": [
       "<div>\n",
       "<style scoped>\n",
       "    .dataframe tbody tr th:only-of-type {\n",
       "        vertical-align: middle;\n",
       "    }\n",
       "\n",
       "    .dataframe tbody tr th {\n",
       "        vertical-align: top;\n",
       "    }\n",
       "\n",
       "    .dataframe thead th {\n",
       "        text-align: right;\n",
       "    }\n",
       "</style>\n",
       "<table border=\"1\" class=\"dataframe\">\n",
       "  <thead>\n",
       "    <tr style=\"text-align: right;\">\n",
       "      <th></th>\n",
       "      <th>name</th>\n",
       "      <th>ingredients</th>\n",
       "      <th>diet</th>\n",
       "      <th>prep_time</th>\n",
       "      <th>cook_time</th>\n",
       "      <th>flavor_profile</th>\n",
       "      <th>course</th>\n",
       "      <th>state</th>\n",
       "      <th>region</th>\n",
       "    </tr>\n",
       "  </thead>\n",
       "  <tbody>\n",
       "    <tr>\n",
       "      <th>250</th>\n",
       "      <td>Til Pitha</td>\n",
       "      <td>Glutinous rice, black sesame seeds, gur</td>\n",
       "      <td>vegetarian</td>\n",
       "      <td>5</td>\n",
       "      <td>30</td>\n",
       "      <td>sweet</td>\n",
       "      <td>dessert</td>\n",
       "      <td>Assam</td>\n",
       "      <td>North East</td>\n",
       "    </tr>\n",
       "    <tr>\n",
       "      <th>251</th>\n",
       "      <td>Bebinca</td>\n",
       "      <td>Coconut milk, egg yolks, clarified butter, all...</td>\n",
       "      <td>vegetarian</td>\n",
       "      <td>20</td>\n",
       "      <td>60</td>\n",
       "      <td>sweet</td>\n",
       "      <td>dessert</td>\n",
       "      <td>Goa</td>\n",
       "      <td>West</td>\n",
       "    </tr>\n",
       "    <tr>\n",
       "      <th>252</th>\n",
       "      <td>Shufta</td>\n",
       "      <td>Cottage cheese, dry dates, dried rose petals, ...</td>\n",
       "      <td>vegetarian</td>\n",
       "      <td>-1</td>\n",
       "      <td>-1</td>\n",
       "      <td>sweet</td>\n",
       "      <td>dessert</td>\n",
       "      <td>Jammu &amp; Kashmir</td>\n",
       "      <td>North</td>\n",
       "    </tr>\n",
       "    <tr>\n",
       "      <th>253</th>\n",
       "      <td>Mawa Bati</td>\n",
       "      <td>Milk powder, dry fruits, arrowroot powder, all...</td>\n",
       "      <td>vegetarian</td>\n",
       "      <td>20</td>\n",
       "      <td>45</td>\n",
       "      <td>sweet</td>\n",
       "      <td>dessert</td>\n",
       "      <td>Madhya Pradesh</td>\n",
       "      <td>Central</td>\n",
       "    </tr>\n",
       "    <tr>\n",
       "      <th>254</th>\n",
       "      <td>Pinaca</td>\n",
       "      <td>Brown rice, fennel seeds, grated coconut, blac...</td>\n",
       "      <td>vegetarian</td>\n",
       "      <td>-1</td>\n",
       "      <td>-1</td>\n",
       "      <td>sweet</td>\n",
       "      <td>dessert</td>\n",
       "      <td>Goa</td>\n",
       "      <td>West</td>\n",
       "    </tr>\n",
       "  </tbody>\n",
       "</table>\n",
       "</div>"
      ],
      "text/plain": [
       "          name                                        ingredients        diet  \\\n",
       "250  Til Pitha            Glutinous rice, black sesame seeds, gur  vegetarian   \n",
       "251    Bebinca  Coconut milk, egg yolks, clarified butter, all...  vegetarian   \n",
       "252     Shufta  Cottage cheese, dry dates, dried rose petals, ...  vegetarian   \n",
       "253  Mawa Bati  Milk powder, dry fruits, arrowroot powder, all...  vegetarian   \n",
       "254     Pinaca  Brown rice, fennel seeds, grated coconut, blac...  vegetarian   \n",
       "\n",
       "     prep_time  cook_time flavor_profile   course            state      region  \n",
       "250          5         30          sweet  dessert            Assam  North East  \n",
       "251         20         60          sweet  dessert              Goa        West  \n",
       "252         -1         -1          sweet  dessert  Jammu & Kashmir       North  \n",
       "253         20         45          sweet  dessert   Madhya Pradesh     Central  \n",
       "254         -1         -1          sweet  dessert              Goa        West  "
      ]
     },
     "execution_count": 5,
     "metadata": {},
     "output_type": "execute_result"
    }
   ],
   "source": [
    "df.tail()"
   ]
  },
  {
   "cell_type": "code",
   "execution_count": 6,
   "id": "695fff03",
   "metadata": {},
   "outputs": [
    {
     "data": {
      "text/plain": [
       "(255, 9)"
      ]
     },
     "execution_count": 6,
     "metadata": {},
     "output_type": "execute_result"
    }
   ],
   "source": [
    "df.shape"
   ]
  },
  {
   "cell_type": "code",
   "execution_count": 7,
   "id": "a3added9",
   "metadata": {},
   "outputs": [
    {
     "name": "stdout",
     "output_type": "stream",
     "text": [
      "<class 'pandas.core.frame.DataFrame'>\n",
      "RangeIndex: 255 entries, 0 to 254\n",
      "Data columns (total 9 columns):\n",
      " #   Column          Non-Null Count  Dtype \n",
      "---  ------          --------------  ----- \n",
      " 0   name            255 non-null    object\n",
      " 1   ingredients     255 non-null    object\n",
      " 2   diet            255 non-null    object\n",
      " 3   prep_time       255 non-null    int64 \n",
      " 4   cook_time       255 non-null    int64 \n",
      " 5   flavor_profile  255 non-null    object\n",
      " 6   course          255 non-null    object\n",
      " 7   state           255 non-null    object\n",
      " 8   region          254 non-null    object\n",
      "dtypes: int64(2), object(7)\n",
      "memory usage: 18.1+ KB\n"
     ]
    }
   ],
   "source": [
    "df.info()"
   ]
  },
  {
   "cell_type": "code",
   "execution_count": 8,
   "id": "8c99fd07",
   "metadata": {},
   "outputs": [
    {
     "data": {
      "text/plain": [
       "name              object\n",
       "ingredients       object\n",
       "diet              object\n",
       "prep_time          int64\n",
       "cook_time          int64\n",
       "flavor_profile    object\n",
       "course            object\n",
       "state             object\n",
       "region            object\n",
       "dtype: object"
      ]
     },
     "execution_count": 8,
     "metadata": {},
     "output_type": "execute_result"
    }
   ],
   "source": [
    "df.dtypes"
   ]
  },
  {
   "cell_type": "code",
   "execution_count": 9,
   "id": "9e436abb",
   "metadata": {
    "scrolled": true
   },
   "outputs": [
    {
     "data": {
      "text/plain": [
       "name              0\n",
       "ingredients       0\n",
       "diet              0\n",
       "prep_time         0\n",
       "cook_time         0\n",
       "flavor_profile    0\n",
       "course            0\n",
       "state             0\n",
       "region            1\n",
       "dtype: int64"
      ]
     },
     "execution_count": 9,
     "metadata": {},
     "output_type": "execute_result"
    }
   ],
   "source": [
    "df.isnull().sum()"
   ]
  },
  {
   "cell_type": "code",
   "execution_count": 10,
   "id": "7eb03c3a",
   "metadata": {},
   "outputs": [
    {
     "data": {
      "text/plain": [
       "Index(['name', 'ingredients', 'diet', 'prep_time', 'cook_time',\n",
       "       'flavor_profile', 'course', 'state', 'region'],\n",
       "      dtype='object')"
      ]
     },
     "execution_count": 10,
     "metadata": {},
     "output_type": "execute_result"
    }
   ],
   "source": [
    "df.columns"
   ]
  },
  {
   "cell_type": "code",
   "execution_count": 38,
   "id": "c2663325",
   "metadata": {},
   "outputs": [],
   "source": [
    "df.columns = df.columns.str.lstrip()"
   ]
  },
  {
   "cell_type": "code",
   "execution_count": 12,
   "id": "674f247c",
   "metadata": {},
   "outputs": [
    {
     "data": {
      "text/plain": [
       "Index(['name', 'ingredients', 'diet', 'prep_time', 'cook_time',\n",
       "       'flavor_profile', 'course', 'state', 'region'],\n",
       "      dtype='object')"
      ]
     },
     "execution_count": 12,
     "metadata": {},
     "output_type": "execute_result"
    }
   ],
   "source": [
    "df.columns"
   ]
  },
  {
   "cell_type": "code",
   "execution_count": 13,
   "id": "265a4e3c",
   "metadata": {},
   "outputs": [
    {
     "data": {
      "text/html": [
       "<div>\n",
       "<style scoped>\n",
       "    .dataframe tbody tr th:only-of-type {\n",
       "        vertical-align: middle;\n",
       "    }\n",
       "\n",
       "    .dataframe tbody tr th {\n",
       "        vertical-align: top;\n",
       "    }\n",
       "\n",
       "    .dataframe thead th {\n",
       "        text-align: right;\n",
       "    }\n",
       "</style>\n",
       "<table border=\"1\" class=\"dataframe\">\n",
       "  <thead>\n",
       "    <tr style=\"text-align: right;\">\n",
       "      <th></th>\n",
       "      <th>prep_time</th>\n",
       "      <th>cook_time</th>\n",
       "    </tr>\n",
       "  </thead>\n",
       "  <tbody>\n",
       "    <tr>\n",
       "      <th>count</th>\n",
       "      <td>255.000000</td>\n",
       "      <td>255.000000</td>\n",
       "    </tr>\n",
       "    <tr>\n",
       "      <th>mean</th>\n",
       "      <td>31.105882</td>\n",
       "      <td>34.529412</td>\n",
       "    </tr>\n",
       "    <tr>\n",
       "      <th>std</th>\n",
       "      <td>72.554409</td>\n",
       "      <td>48.265650</td>\n",
       "    </tr>\n",
       "    <tr>\n",
       "      <th>min</th>\n",
       "      <td>-1.000000</td>\n",
       "      <td>-1.000000</td>\n",
       "    </tr>\n",
       "    <tr>\n",
       "      <th>25%</th>\n",
       "      <td>10.000000</td>\n",
       "      <td>20.000000</td>\n",
       "    </tr>\n",
       "    <tr>\n",
       "      <th>50%</th>\n",
       "      <td>10.000000</td>\n",
       "      <td>30.000000</td>\n",
       "    </tr>\n",
       "    <tr>\n",
       "      <th>75%</th>\n",
       "      <td>20.000000</td>\n",
       "      <td>40.000000</td>\n",
       "    </tr>\n",
       "    <tr>\n",
       "      <th>max</th>\n",
       "      <td>500.000000</td>\n",
       "      <td>720.000000</td>\n",
       "    </tr>\n",
       "  </tbody>\n",
       "</table>\n",
       "</div>"
      ],
      "text/plain": [
       "        prep_time   cook_time\n",
       "count  255.000000  255.000000\n",
       "mean    31.105882   34.529412\n",
       "std     72.554409   48.265650\n",
       "min     -1.000000   -1.000000\n",
       "25%     10.000000   20.000000\n",
       "50%     10.000000   30.000000\n",
       "75%     20.000000   40.000000\n",
       "max    500.000000  720.000000"
      ]
     },
     "execution_count": 13,
     "metadata": {},
     "output_type": "execute_result"
    }
   ],
   "source": [
    "df.describe()"
   ]
  },
  {
   "cell_type": "code",
   "execution_count": 14,
   "id": "3946ff5e",
   "metadata": {},
   "outputs": [
    {
     "data": {
      "text/html": [
       "<div>\n",
       "<style scoped>\n",
       "    .dataframe tbody tr th:only-of-type {\n",
       "        vertical-align: middle;\n",
       "    }\n",
       "\n",
       "    .dataframe tbody tr th {\n",
       "        vertical-align: top;\n",
       "    }\n",
       "\n",
       "    .dataframe thead th {\n",
       "        text-align: right;\n",
       "    }\n",
       "</style>\n",
       "<table border=\"1\" class=\"dataframe\">\n",
       "  <thead>\n",
       "    <tr style=\"text-align: right;\">\n",
       "      <th></th>\n",
       "      <th>name</th>\n",
       "      <th>ingredients</th>\n",
       "      <th>diet</th>\n",
       "      <th>prep_time</th>\n",
       "      <th>cook_time</th>\n",
       "      <th>flavor_profile</th>\n",
       "      <th>course</th>\n",
       "      <th>state</th>\n",
       "      <th>region</th>\n",
       "    </tr>\n",
       "  </thead>\n",
       "  <tbody>\n",
       "    <tr>\n",
       "      <th>0</th>\n",
       "      <td>Balu shahi</td>\n",
       "      <td>Maida flour, yogurt, oil, sugar</td>\n",
       "      <td>vegetarian</td>\n",
       "      <td>45</td>\n",
       "      <td>25</td>\n",
       "      <td>sweet</td>\n",
       "      <td>dessert</td>\n",
       "      <td>West Bengal</td>\n",
       "      <td>East</td>\n",
       "    </tr>\n",
       "    <tr>\n",
       "      <th>1</th>\n",
       "      <td>Boondi</td>\n",
       "      <td>Gram flour, ghee, sugar</td>\n",
       "      <td>vegetarian</td>\n",
       "      <td>80</td>\n",
       "      <td>30</td>\n",
       "      <td>sweet</td>\n",
       "      <td>dessert</td>\n",
       "      <td>Rajasthan</td>\n",
       "      <td>West</td>\n",
       "    </tr>\n",
       "    <tr>\n",
       "      <th>2</th>\n",
       "      <td>Gajar ka halwa</td>\n",
       "      <td>Carrots, milk, sugar, ghee, cashews, raisins</td>\n",
       "      <td>vegetarian</td>\n",
       "      <td>15</td>\n",
       "      <td>60</td>\n",
       "      <td>sweet</td>\n",
       "      <td>dessert</td>\n",
       "      <td>Punjab</td>\n",
       "      <td>North</td>\n",
       "    </tr>\n",
       "    <tr>\n",
       "      <th>3</th>\n",
       "      <td>Ghevar</td>\n",
       "      <td>Flour, ghee, kewra, milk, clarified butter, su...</td>\n",
       "      <td>vegetarian</td>\n",
       "      <td>15</td>\n",
       "      <td>30</td>\n",
       "      <td>sweet</td>\n",
       "      <td>dessert</td>\n",
       "      <td>Rajasthan</td>\n",
       "      <td>West</td>\n",
       "    </tr>\n",
       "    <tr>\n",
       "      <th>4</th>\n",
       "      <td>Gulab jamun</td>\n",
       "      <td>Milk powder, plain flour, baking powder, ghee,...</td>\n",
       "      <td>vegetarian</td>\n",
       "      <td>15</td>\n",
       "      <td>40</td>\n",
       "      <td>sweet</td>\n",
       "      <td>dessert</td>\n",
       "      <td>West Bengal</td>\n",
       "      <td>East</td>\n",
       "    </tr>\n",
       "  </tbody>\n",
       "</table>\n",
       "</div>"
      ],
      "text/plain": [
       "             name                                        ingredients  \\\n",
       "0      Balu shahi                    Maida flour, yogurt, oil, sugar   \n",
       "1          Boondi                            Gram flour, ghee, sugar   \n",
       "2  Gajar ka halwa       Carrots, milk, sugar, ghee, cashews, raisins   \n",
       "3          Ghevar  Flour, ghee, kewra, milk, clarified butter, su...   \n",
       "4     Gulab jamun  Milk powder, plain flour, baking powder, ghee,...   \n",
       "\n",
       "         diet  prep_time  cook_time flavor_profile   course        state  \\\n",
       "0  vegetarian         45         25          sweet  dessert  West Bengal   \n",
       "1  vegetarian         80         30          sweet  dessert    Rajasthan   \n",
       "2  vegetarian         15         60          sweet  dessert       Punjab   \n",
       "3  vegetarian         15         30          sweet  dessert    Rajasthan   \n",
       "4  vegetarian         15         40          sweet  dessert  West Bengal   \n",
       "\n",
       "  region  \n",
       "0   East  \n",
       "1   West  \n",
       "2  North  \n",
       "3   West  \n",
       "4   East  "
      ]
     },
     "execution_count": 14,
     "metadata": {},
     "output_type": "execute_result"
    }
   ],
   "source": [
    "df.head()"
   ]
  },
  {
   "cell_type": "code",
   "execution_count": 15,
   "id": "6e8e5809",
   "metadata": {},
   "outputs": [],
   "source": [
    "df.dropna(inplace = True)"
   ]
  },
  {
   "cell_type": "code",
   "execution_count": 16,
   "id": "10fb063b",
   "metadata": {},
   "outputs": [
    {
     "data": {
      "text/plain": [
       "(254, 9)"
      ]
     },
     "execution_count": 16,
     "metadata": {},
     "output_type": "execute_result"
    }
   ],
   "source": [
    "df.shape"
   ]
  },
  {
   "cell_type": "code",
   "execution_count": 17,
   "id": "3ddfdb17",
   "metadata": {},
   "outputs": [
    {
     "data": {
      "text/plain": [
       "str"
      ]
     },
     "execution_count": 17,
     "metadata": {},
     "output_type": "execute_result"
    }
   ],
   "source": [
    "type('ingredients')"
   ]
  },
  {
   "cell_type": "code",
   "execution_count": 18,
   "id": "1bad9273",
   "metadata": {},
   "outputs": [
    {
     "data": {
      "text/plain": [
       "name              object\n",
       "ingredients       object\n",
       "diet              object\n",
       "prep_time          int64\n",
       "cook_time          int64\n",
       "flavor_profile    object\n",
       "course            object\n",
       "state             object\n",
       "region            object\n",
       "dtype: object"
      ]
     },
     "execution_count": 18,
     "metadata": {},
     "output_type": "execute_result"
    }
   ],
   "source": [
    "df.dtypes"
   ]
  },
  {
   "cell_type": "code",
   "execution_count": 39,
   "id": "1439d424",
   "metadata": {},
   "outputs": [
    {
     "data": {
      "text/plain": [
       "array(['sweet', 'spicy', 'bitter', 'umami', 'sour'], dtype=object)"
      ]
     },
     "execution_count": 39,
     "metadata": {},
     "output_type": "execute_result"
    }
   ],
   "source": [
    "df.flavor_profile.unique()"
   ]
  },
  {
   "cell_type": "code",
   "execution_count": 40,
   "id": "f3bc207b",
   "metadata": {},
   "outputs": [],
   "source": [
    "df[\"flavor_profile\"]= df[\"flavor_profile\"].replace(\"-1\",\"umami\")"
   ]
  },
  {
   "cell_type": "code",
   "execution_count": 21,
   "id": "4305cf15",
   "metadata": {},
   "outputs": [],
   "source": [
    "df[\"cook_time\"]= df[\"cook_time\"].replace(-1,0)"
   ]
  },
  {
   "cell_type": "code",
   "execution_count": 42,
   "id": "2b43d446",
   "metadata": {},
   "outputs": [],
   "source": [
    "df[\"prep_time\"]= df[\"prep_time\"].replace(-1,0)"
   ]
  },
  {
   "cell_type": "code",
   "execution_count": 22,
   "id": "dd98dfe8",
   "metadata": {},
   "outputs": [
    {
     "data": {
      "text/html": [
       "<div>\n",
       "<style scoped>\n",
       "    .dataframe tbody tr th:only-of-type {\n",
       "        vertical-align: middle;\n",
       "    }\n",
       "\n",
       "    .dataframe tbody tr th {\n",
       "        vertical-align: top;\n",
       "    }\n",
       "\n",
       "    .dataframe thead th {\n",
       "        text-align: right;\n",
       "    }\n",
       "</style>\n",
       "<table border=\"1\" class=\"dataframe\">\n",
       "  <thead>\n",
       "    <tr style=\"text-align: right;\">\n",
       "      <th></th>\n",
       "      <th>cook_time</th>\n",
       "      <th>name</th>\n",
       "    </tr>\n",
       "  </thead>\n",
       "  <tbody>\n",
       "    <tr>\n",
       "      <th>254</th>\n",
       "      <td>0</td>\n",
       "      <td>Pinaca</td>\n",
       "    </tr>\n",
       "    <tr>\n",
       "      <th>152</th>\n",
       "      <td>0</td>\n",
       "      <td>Poriyal</td>\n",
       "    </tr>\n",
       "    <tr>\n",
       "      <th>167</th>\n",
       "      <td>0</td>\n",
       "      <td>Kolim Jawla</td>\n",
       "    </tr>\n",
       "    <tr>\n",
       "      <th>172</th>\n",
       "      <td>0</td>\n",
       "      <td>Bombil fry</td>\n",
       "    </tr>\n",
       "    <tr>\n",
       "      <th>134</th>\n",
       "      <td>0</td>\n",
       "      <td>Keerai masiyal</td>\n",
       "    </tr>\n",
       "    <tr>\n",
       "      <th>...</th>\n",
       "      <td>...</td>\n",
       "      <td>...</td>\n",
       "    </tr>\n",
       "    <tr>\n",
       "      <th>144</th>\n",
       "      <td>90</td>\n",
       "      <td>Masala Dosa</td>\n",
       "    </tr>\n",
       "    <tr>\n",
       "      <th>27</th>\n",
       "      <td>120</td>\n",
       "      <td>Malapua</td>\n",
       "    </tr>\n",
       "    <tr>\n",
       "      <th>114</th>\n",
       "      <td>120</td>\n",
       "      <td>Pindi chana</td>\n",
       "    </tr>\n",
       "    <tr>\n",
       "      <th>75</th>\n",
       "      <td>120</td>\n",
       "      <td>Biryani</td>\n",
       "    </tr>\n",
       "    <tr>\n",
       "      <th>62</th>\n",
       "      <td>720</td>\n",
       "      <td>Shrikhand</td>\n",
       "    </tr>\n",
       "  </tbody>\n",
       "</table>\n",
       "<p>254 rows × 2 columns</p>\n",
       "</div>"
      ],
      "text/plain": [
       "     cook_time            name\n",
       "254          0          Pinaca\n",
       "152          0         Poriyal\n",
       "167          0     Kolim Jawla\n",
       "172          0      Bombil fry\n",
       "134          0  Keerai masiyal\n",
       "..         ...             ...\n",
       "144         90     Masala Dosa\n",
       "27         120         Malapua\n",
       "114        120     Pindi chana\n",
       "75         120         Biryani\n",
       "62         720       Shrikhand\n",
       "\n",
       "[254 rows x 2 columns]"
      ]
     },
     "execution_count": 22,
     "metadata": {},
     "output_type": "execute_result"
    }
   ],
   "source": [
    "df[['cook_time','name']].sort_values('cook_time')"
   ]
  },
  {
   "cell_type": "code",
   "execution_count": 23,
   "id": "bf556094",
   "metadata": {},
   "outputs": [],
   "source": [
    "df[\"prep_time\"]= df[\"prep_time\"].replace(-1,0)"
   ]
  },
  {
   "cell_type": "code",
   "execution_count": 24,
   "id": "68f6b282",
   "metadata": {
    "scrolled": true
   },
   "outputs": [
    {
     "data": {
      "text/html": [
       "<div>\n",
       "<style scoped>\n",
       "    .dataframe tbody tr th:only-of-type {\n",
       "        vertical-align: middle;\n",
       "    }\n",
       "\n",
       "    .dataframe tbody tr th {\n",
       "        vertical-align: top;\n",
       "    }\n",
       "\n",
       "    .dataframe thead th {\n",
       "        text-align: right;\n",
       "    }\n",
       "</style>\n",
       "<table border=\"1\" class=\"dataframe\">\n",
       "  <thead>\n",
       "    <tr style=\"text-align: right;\">\n",
       "      <th></th>\n",
       "      <th>prep_time</th>\n",
       "      <th>name</th>\n",
       "    </tr>\n",
       "  </thead>\n",
       "  <tbody>\n",
       "    <tr>\n",
       "      <th>254</th>\n",
       "      <td>0</td>\n",
       "      <td>Pinaca</td>\n",
       "    </tr>\n",
       "    <tr>\n",
       "      <th>229</th>\n",
       "      <td>0</td>\n",
       "      <td>Black rice</td>\n",
       "    </tr>\n",
       "    <tr>\n",
       "      <th>21</th>\n",
       "      <td>0</td>\n",
       "      <td>Chhena kheeri</td>\n",
       "    </tr>\n",
       "    <tr>\n",
       "      <th>227</th>\n",
       "      <td>0</td>\n",
       "      <td>Bengena Pitika</td>\n",
       "    </tr>\n",
       "    <tr>\n",
       "      <th>223</th>\n",
       "      <td>0</td>\n",
       "      <td>Kumol Sawul</td>\n",
       "    </tr>\n",
       "    <tr>\n",
       "      <th>...</th>\n",
       "      <td>...</td>\n",
       "      <td>...</td>\n",
       "    </tr>\n",
       "    <tr>\n",
       "      <th>128</th>\n",
       "      <td>360</td>\n",
       "      <td>Dosa</td>\n",
       "    </tr>\n",
       "    <tr>\n",
       "      <th>130</th>\n",
       "      <td>360</td>\n",
       "      <td>Idli</td>\n",
       "    </tr>\n",
       "    <tr>\n",
       "      <th>29</th>\n",
       "      <td>480</td>\n",
       "      <td>Misti doi</td>\n",
       "    </tr>\n",
       "    <tr>\n",
       "      <th>155</th>\n",
       "      <td>495</td>\n",
       "      <td>Puttu</td>\n",
       "    </tr>\n",
       "    <tr>\n",
       "      <th>114</th>\n",
       "      <td>500</td>\n",
       "      <td>Pindi chana</td>\n",
       "    </tr>\n",
       "  </tbody>\n",
       "</table>\n",
       "<p>254 rows × 2 columns</p>\n",
       "</div>"
      ],
      "text/plain": [
       "     prep_time            name\n",
       "254          0          Pinaca\n",
       "229          0      Black rice\n",
       "21           0   Chhena kheeri\n",
       "227          0  Bengena Pitika\n",
       "223          0     Kumol Sawul\n",
       "..         ...             ...\n",
       "128        360            Dosa\n",
       "130        360            Idli\n",
       "29         480       Misti doi\n",
       "155        495           Puttu\n",
       "114        500     Pindi chana\n",
       "\n",
       "[254 rows x 2 columns]"
      ]
     },
     "execution_count": 24,
     "metadata": {},
     "output_type": "execute_result"
    }
   ],
   "source": [
    "df[['prep_time','name']].sort_values('prep_time')"
   ]
  },
  {
   "cell_type": "code",
   "execution_count": 25,
   "id": "564615eb",
   "metadata": {},
   "outputs": [
    {
     "data": {
      "text/plain": [
       "31.30708661417323"
      ]
     },
     "execution_count": 25,
     "metadata": {},
     "output_type": "execute_result"
    }
   ],
   "source": [
    "df.prep_time.mean()"
   ]
  },
  {
   "cell_type": "code",
   "execution_count": 26,
   "id": "27a6c48d",
   "metadata": {},
   "outputs": [
    {
     "data": {
      "text/plain": [
       "34.67716535433071"
      ]
     },
     "execution_count": 26,
     "metadata": {},
     "output_type": "execute_result"
    }
   ],
   "source": [
    "df.cook_time.mean()"
   ]
  },
  {
   "cell_type": "code",
   "execution_count": 27,
   "id": "d0adf0e3",
   "metadata": {},
   "outputs": [
    {
     "data": {
      "text/plain": [
       "vegetarian        225\n",
       "non vegetarian     29\n",
       "Name: diet, dtype: int64"
      ]
     },
     "execution_count": 27,
     "metadata": {},
     "output_type": "execute_result"
    }
   ],
   "source": [
    "df.diet.value_counts()"
   ]
  },
  {
   "cell_type": "code",
   "execution_count": 47,
   "id": "61630985",
   "metadata": {},
   "outputs": [],
   "source": [
    "df[\"state\"]= df[\"state\"].replace(\"-1\",\"others\")"
   ]
  },
  {
   "cell_type": "code",
   "execution_count": 46,
   "id": "a44e650d",
   "metadata": {},
   "outputs": [
    {
     "data": {
      "text/plain": [
       "Gujarat            35\n",
       "Punjab             32\n",
       "Maharashtra        30\n",
       "West Bengal        24\n",
       "other              24\n",
       "Assam              21\n",
       "Tamil Nadu         20\n",
       "Andhra Pradesh     10\n",
       "Kerala              8\n",
       "Uttar Pradesh       8\n",
       "Odisha              7\n",
       "Karnataka           6\n",
       "Rajasthan           6\n",
       "Telangana           5\n",
       "Bihar               3\n",
       "Goa                 3\n",
       "Jammu & Kashmir     2\n",
       "Manipur             2\n",
       "Madhya Pradesh      2\n",
       "Chhattisgarh        1\n",
       "Uttarakhand         1\n",
       "Haryana             1\n",
       "Tripura             1\n",
       "Nagaland            1\n",
       "NCT of Delhi        1\n",
       "Name: state, dtype: int64"
      ]
     },
     "execution_count": 46,
     "metadata": {},
     "output_type": "execute_result"
    }
   ],
   "source": [
    "df.state.value_counts()"
   ]
  },
  {
   "cell_type": "code",
   "execution_count": 29,
   "id": "edbf61d8",
   "metadata": {},
   "outputs": [
    {
     "data": {
      "text/plain": [
       "spicy     133\n",
       "sweet      87\n",
       "umami      29\n",
       "bitter      4\n",
       "sour        1\n",
       "Name: flavor_profile, dtype: int64"
      ]
     },
     "execution_count": 29,
     "metadata": {},
     "output_type": "execute_result"
    }
   ],
   "source": [
    "df.flavor_profile.value_counts()"
   ]
  },
  {
   "cell_type": "code",
   "execution_count": 37,
   "id": "6ec69aaa",
   "metadata": {},
   "outputs": [
    {
     "data": {
      "text/plain": [
       "<seaborn.axisgrid.FacetGrid at 0x19701e82190>"
      ]
     },
     "execution_count": 37,
     "metadata": {},
     "output_type": "execute_result"
    },
    {
     "data": {
      "image/png": "[encoded data removed]",
      "text/plain": [
       "<Figure size 360x360 with 1 Axes>"
      ]
     },
     "metadata": {
      "needs_background": "light"
     },
     "output_type": "display_data"
    }
   ],
   "source": [
    "sns.displot(df[\"prep_time\"], bins = 200)"
   ]
  },
  {
   "cell_type": "code",
   "execution_count": 51,
   "id": "821db1e6",
   "metadata": {},
   "outputs": [
    {
     "data": {
      "text/plain": [
       "<seaborn.axisgrid.FacetGrid at 0x197033a8c70>"
      ]
     },
     "execution_count": 51,
     "metadata": {},
     "output_type": "execute_result"
    },
    {
     "data": {
      "image/png": "[encoded data removed]",
      "text/plain": [
       "<Figure size 360x360 with 1 Axes>"
      ]
     },
     "metadata": {
      "needs_background": "light"
     },
     "output_type": "display_data"
    }
   ],
   "source": [
    "sns.displot(df[\"cook_time\"], bins = 20)"
   ]
  },
  {
   "cell_type": "code",
   "execution_count": 55,
   "id": "dcf26d0f",
   "metadata": {},
   "outputs": [
    {
     "data": {
      "image/png": "[encoded data removed]",
      "text/plain": [
       "<Figure size 432x432 with 3 Axes>"
      ]
     },
     "metadata": {
      "needs_background": "light"
     },
     "output_type": "display_data"
    }
   ],
   "source": [
    "ax=sns.jointplot(x = 'prep_time', y ='cook_time', data = df, xlim = (0,200), ylim = (0,120))"
   ]
  },
  {
   "cell_type": "code",
   "execution_count": 56,
   "id": "4364b6fa",
   "metadata": {},
   "outputs": [
    {
     "data": {
      "text/plain": [
       "<AxesSubplot:xlabel='flavor_profile', ylabel='count'>"
      ]
     },
     "execution_count": 56,
     "metadata": {},
     "output_type": "execute_result"
    },
    {
     "data": {
      "image/png": "[encoded data removed]",
      "text/plain": [
       "<Figure size 432x288 with 1 Axes>"
      ]
     },
     "metadata": {
      "needs_background": "light"
     },
     "output_type": "display_data"
    }
   ],
   "source": [
    "sns.countplot(x = 'flavor_profile', data = df)"
   ]
  },
  {
   "cell_type": "code",
   "execution_count": 58,
   "id": "bbc5f57e",
   "metadata": {},
   "outputs": [],
   "source": [
    "df[\"region\"]= df[\"region\"].replace(\"-1\",\"others\")"
   ]
  },
  {
   "cell_type": "code",
   "execution_count": 59,
   "id": "1baac3c1",
   "metadata": {},
   "outputs": [
    {
     "data": {
      "text/plain": [
       "<AxesSubplot:xlabel='region', ylabel='count'>"
      ]
     },
     "execution_count": 59,
     "metadata": {},
     "output_type": "execute_result"
    },
    {
     "data": {
      "image/png": "[encoded data removed]",
      "text/plain": [
       "<Figure size 432x288 with 1 Axes>"
      ]
     },
     "metadata": {
      "needs_background": "light"
     },
     "output_type": "display_data"
    }
   ],
   "source": [
    "sns.countplot(x = 'region', data = df)"
   ]
  },
  {
   "cell_type": "code",
   "execution_count": 67,
   "id": "b4a6a9a3",
   "metadata": {},
   "outputs": [
    {
     "data": {
      "text/plain": [
       "<AxesSubplot:xlabel='flavor_profile', ylabel='prep_time'>"
      ]
     },
     "execution_count": 67,
     "metadata": {},
     "output_type": "execute_result"
    },
    {
     "data": {
      "image/png": "[encoded data removed]",
      "text/plain": [
       "<Figure size 432x288 with 1 Axes>"
      ]
     },
     "metadata": {
      "needs_background": "light"
     },
     "output_type": "display_data"
    }
   ],
   "source": [
    "sns.boxplot(x = 'flavor_profile', y = 'prep_time', data = df)"
   ]
  },
  {
   "cell_type": "code",
   "execution_count": 61,
   "id": "80e2f061",
   "metadata": {},
   "outputs": [
    {
     "data": {
      "text/plain": [
       "<AxesSubplot:xlabel='flavor_profile', ylabel='prep_time'>"
      ]
     },
     "execution_count": 61,
     "metadata": {},
     "output_type": "execute_result"
    },
    {
     "data": {
      "image/png": "[encoded data removed]",
      "text/plain": [
       "<Figure size 432x288 with 1 Axes>"
      ]
     },
     "metadata": {
      "needs_background": "light"
     },
     "output_type": "display_data"
    }
   ],
   "source": [
    "sns.stripplot(x = 'flavor_profile', y = 'prep_time', data = df)"
   ]
  },
  {
   "cell_type": "code",
   "execution_count": 62,
   "id": "659bea7b",
   "metadata": {},
   "outputs": [
    {
     "data": {
      "text/plain": [
       "<AxesSubplot:xlabel='course', ylabel='count'>"
      ]
     },
     "execution_count": 62,
     "metadata": {},
     "output_type": "execute_result"
    },
    {
     "data": {
      "image/png": "[encoded data removed]",
      "text/plain": [
       "<Figure size 432x288 with 1 Axes>"
      ]
     },
     "metadata": {
      "needs_background": "light"
     },
     "output_type": "display_data"
    }
   ],
   "source": [
    "sns.countplot(x = 'course', data = df)"
   ]
  },
  {
   "cell_type": "code",
   "execution_count": 64,
   "id": "2a4c9935",
   "metadata": {},
   "outputs": [
    {
     "data": {
      "text/plain": [
       "<AxesSubplot:xlabel='diet', ylabel='count'>"
      ]
     },
     "execution_count": 64,
     "metadata": {},
     "output_type": "execute_result"
    },
    {
     "data": {
      "image/png": "[encoded data removed]",
      "text/plain": [
       "<Figure size 432x288 with 1 Axes>"
      ]
     },
     "metadata": {
      "needs_background": "light"
     },
     "output_type": "display_data"
    }
   ],
   "source": [
    "sns.countplot(x = 'diet', data = df)"
   ]
  },
  {
   "cell_type": "code",
   "execution_count": 68,
   "id": "95f04fee",
   "metadata": {},
   "outputs": [
    {
     "data": {
      "text/plain": [
       "<seaborn.axisgrid.PairGrid at 0x1970372a790>"
      ]
     },
     "execution_count": 68,
     "metadata": {},
     "output_type": "execute_result"
    },
    {
     "data": {
      "image/png": "[encoded data removed]",
      "text/plain": [
       "<Figure size 360x360 with 6 Axes>"
      ]
     },
     "metadata": {
      "needs_background": "light"
     },
     "output_type": "display_data"
    }
   ],
   "source": [
    "sns.pairplot(df)"
   ]
  },
  {
   "cell_type": "code",
   "execution_count": 69,
   "id": "fadd884e",
   "metadata": {},
   "outputs": [],
   "source": [
    "mx=df.corr()"
   ]
  },
  {
   "cell_type": "code",
   "execution_count": 73,
   "id": "e1bdb782",
   "metadata": {},
   "outputs": [
    {
     "data": {
      "text/plain": [
       "<AxesSubplot:xlabel='prep_time', ylabel='cook_time'>"
      ]
     },
     "execution_count": 73,
     "metadata": {},
     "output_type": "execute_result"
    },
    {
     "data": {
      "image/png": "[encoded data removed]",
      "text/plain": [
       "<Figure size 3600x3600 with 1 Axes>"
      ]
     },
     "metadata": {
      "needs_background": "light"
     },
     "output_type": "display_data"
    }
   ],
   "source": [
    "plt.figure(figsize=(50,50))\n",
    "sns.boxplot(x='prep_time',y='cook_time',data = df)"
   ]
  },
  {
   "cell_type": "code",
   "execution_count": 75,
   "id": "e337f4b9",
   "metadata": {},
   "outputs": [
    {
     "data": {
      "text/html": [
       "<div>\n",
       "<style scoped>\n",
       "    .dataframe tbody tr th:only-of-type {\n",
       "        vertical-align: middle;\n",
       "    }\n",
       "\n",
       "    .dataframe tbody tr th {\n",
       "        vertical-align: top;\n",
       "    }\n",
       "\n",
       "    .dataframe thead th {\n",
       "        text-align: right;\n",
       "    }\n",
       "</style>\n",
       "<table border=\"1\" class=\"dataframe\">\n",
       "  <thead>\n",
       "    <tr style=\"text-align: right;\">\n",
       "      <th></th>\n",
       "      <th>name</th>\n",
       "      <th>ingredients</th>\n",
       "      <th>diet</th>\n",
       "      <th>prep_time</th>\n",
       "      <th>cook_time</th>\n",
       "      <th>flavor_profile</th>\n",
       "      <th>course</th>\n",
       "      <th>state</th>\n",
       "      <th>region</th>\n",
       "      <th>total_time</th>\n",
       "    </tr>\n",
       "  </thead>\n",
       "  <tbody>\n",
       "    <tr>\n",
       "      <th>0</th>\n",
       "      <td>Balu shahi</td>\n",
       "      <td>Maida flour, yogurt, oil, sugar</td>\n",
       "      <td>vegetarian</td>\n",
       "      <td>45</td>\n",
       "      <td>25</td>\n",
       "      <td>sweet</td>\n",
       "      <td>dessert</td>\n",
       "      <td>West Bengal</td>\n",
       "      <td>East</td>\n",
       "      <td>70</td>\n",
       "    </tr>\n",
       "    <tr>\n",
       "      <th>1</th>\n",
       "      <td>Boondi</td>\n",
       "      <td>Gram flour, ghee, sugar</td>\n",
       "      <td>vegetarian</td>\n",
       "      <td>80</td>\n",
       "      <td>30</td>\n",
       "      <td>sweet</td>\n",
       "      <td>dessert</td>\n",
       "      <td>Rajasthan</td>\n",
       "      <td>West</td>\n",
       "      <td>110</td>\n",
       "    </tr>\n",
       "    <tr>\n",
       "      <th>2</th>\n",
       "      <td>Gajar ka halwa</td>\n",
       "      <td>Carrots, milk, sugar, ghee, cashews, raisins</td>\n",
       "      <td>vegetarian</td>\n",
       "      <td>15</td>\n",
       "      <td>60</td>\n",
       "      <td>sweet</td>\n",
       "      <td>dessert</td>\n",
       "      <td>Punjab</td>\n",
       "      <td>North</td>\n",
       "      <td>75</td>\n",
       "    </tr>\n",
       "    <tr>\n",
       "      <th>3</th>\n",
       "      <td>Ghevar</td>\n",
       "      <td>Flour, ghee, kewra, milk, clarified butter, su...</td>\n",
       "      <td>vegetarian</td>\n",
       "      <td>15</td>\n",
       "      <td>30</td>\n",
       "      <td>sweet</td>\n",
       "      <td>dessert</td>\n",
       "      <td>Rajasthan</td>\n",
       "      <td>West</td>\n",
       "      <td>45</td>\n",
       "    </tr>\n",
       "    <tr>\n",
       "      <th>4</th>\n",
       "      <td>Gulab jamun</td>\n",
       "      <td>Milk powder, plain flour, baking powder, ghee,...</td>\n",
       "      <td>vegetarian</td>\n",
       "      <td>15</td>\n",
       "      <td>40</td>\n",
       "      <td>sweet</td>\n",
       "      <td>dessert</td>\n",
       "      <td>West Bengal</td>\n",
       "      <td>East</td>\n",
       "      <td>55</td>\n",
       "    </tr>\n",
       "  </tbody>\n",
       "</table>\n",
       "</div>"
      ],
      "text/plain": [
       "             name                                        ingredients  \\\n",
       "0      Balu shahi                    Maida flour, yogurt, oil, sugar   \n",
       "1          Boondi                            Gram flour, ghee, sugar   \n",
       "2  Gajar ka halwa       Carrots, milk, sugar, ghee, cashews, raisins   \n",
       "3          Ghevar  Flour, ghee, kewra, milk, clarified butter, su...   \n",
       "4     Gulab jamun  Milk powder, plain flour, baking powder, ghee,...   \n",
       "\n",
       "         diet  prep_time  cook_time flavor_profile   course        state  \\\n",
       "0  vegetarian         45         25          sweet  dessert  West Bengal   \n",
       "1  vegetarian         80         30          sweet  dessert    Rajasthan   \n",
       "2  vegetarian         15         60          sweet  dessert       Punjab   \n",
       "3  vegetarian         15         30          sweet  dessert    Rajasthan   \n",
       "4  vegetarian         15         40          sweet  dessert  West Bengal   \n",
       "\n",
       "  region  total_time  \n",
       "0   East          70  \n",
       "1   West         110  \n",
       "2  North          75  \n",
       "3   West          45  \n",
       "4   East          55  "
      ]
     },
     "execution_count": 75,
     "metadata": {},
     "output_type": "execute_result"
    }
   ],
   "source": [
    "df['total_time']=df['prep_time']+df['cook_time']\n",
    "df.head()"
   ]
  },
  {
   "cell_type": "code",
   "execution_count": 80,
   "id": "9b2a4732",
   "metadata": {},
   "outputs": [
    {
     "data": {
      "text/plain": [
       "<AxesSubplot:xlabel='region', ylabel='total_time'>"
      ]
     },
     "execution_count": 80,
     "metadata": {},
     "output_type": "execute_result"
    },
    {
     "data": {
      "image/png": "[encoded data removed]",
      "text/plain": [
       "<Figure size 720x720 with 1 Axes>"
      ]
     },
     "metadata": {
      "needs_background": "light"
     },
     "output_type": "display_data"
    }
   ],
   "source": [
    "plt.figure(figsize=(10,10))\n",
    "sns.boxplot(x='region',y='total_time',data=df) "
   ]
  },
  {
   "cell_type": "code",
   "execution_count": 81,
   "id": "e72bd4fc",
   "metadata": {},
   "outputs": [
    {
     "data": {
      "text/html": [
       "<div>\n",
       "<style scoped>\n",
       "    .dataframe tbody tr th:only-of-type {\n",
       "        vertical-align: middle;\n",
       "    }\n",
       "\n",
       "    .dataframe tbody tr th {\n",
       "        vertical-align: top;\n",
       "    }\n",
       "\n",
       "    .dataframe thead th {\n",
       "        text-align: right;\n",
       "    }\n",
       "</style>\n",
       "<table border=\"1\" class=\"dataframe\">\n",
       "  <thead>\n",
       "    <tr style=\"text-align: right;\">\n",
       "      <th></th>\n",
       "      <th>prep_time</th>\n",
       "      <th>cook_time</th>\n",
       "      <th>total_time</th>\n",
       "    </tr>\n",
       "  </thead>\n",
       "  <tbody>\n",
       "    <tr>\n",
       "      <th>prep_time</th>\n",
       "      <td>1.000000</td>\n",
       "      <td>0.142211</td>\n",
       "      <td>0.857081</td>\n",
       "    </tr>\n",
       "    <tr>\n",
       "      <th>cook_time</th>\n",
       "      <td>0.142211</td>\n",
       "      <td>1.000000</td>\n",
       "      <td>0.631832</td>\n",
       "    </tr>\n",
       "    <tr>\n",
       "      <th>total_time</th>\n",
       "      <td>0.857081</td>\n",
       "      <td>0.631832</td>\n",
       "      <td>1.000000</td>\n",
       "    </tr>\n",
       "  </tbody>\n",
       "</table>\n",
       "</div>"
      ],
      "text/plain": [
       "            prep_time  cook_time  total_time\n",
       "prep_time    1.000000   0.142211    0.857081\n",
       "cook_time    0.142211   1.000000    0.631832\n",
       "total_time   0.857081   0.631832    1.000000"
      ]
     },
     "execution_count": 81,
     "metadata": {},
     "output_type": "execute_result"
    }
   ],
   "source": [
    "df1=df.corr()\n",
    "df1"
   ]
  },
  {
   "cell_type": "code",
   "execution_count": 82,
   "id": "7b824c6a",
   "metadata": {},
   "outputs": [
    {
     "data": {
      "text/plain": [
       "<AxesSubplot:>"
      ]
     },
     "execution_count": 82,
     "metadata": {},
     "output_type": "execute_result"
    },
    {
     "data": {
      "image/png": "[encoded data removed]",
      "text/plain": [
       "<Figure size 504x504 with 2 Axes>"
      ]
     },
     "metadata": {
      "needs_background": "light"
     },
     "output_type": "display_data"
    }
   ],
   "source": [
    "plt.figure(figsize=(7,7))\n",
    "sns.heatmap(df1,annot=True,linecolor='White',linewidth=1)"
   ]
  },
  {
   "cell_type": "code",
   "execution_count": 83,
   "id": "462401ef",
   "metadata": {},
   "outputs": [
    {
     "data": {
      "text/plain": [
       "<seaborn.axisgrid.FacetGrid at 0x19705f84f70>"
      ]
     },
     "execution_count": 83,
     "metadata": {},
     "output_type": "execute_result"
    },
    {
     "data": {
      "image/png": "[encoded data removed]",
      "text/plain": [
       "<Figure size 471.875x360 with 1 Axes>"
      ]
     },
     "metadata": {
      "needs_background": "light"
     },
     "output_type": "display_data"
    }
   ],
   "source": [
    "sns.relplot(x='total_time',y='course',hue='diet',kind='scatter',cmap='winter',data=df)"
   ]
  },
  {
   "cell_type": "code",
   "execution_count": 84,
   "id": "5320d7c7",
   "metadata": {},
   "outputs": [
    {
     "name": "stderr",
     "output_type": "stream",
     "text": [
      "C:\\Users\\loket\\anaconda3\\lib\\site-packages\\seaborn\\distributions.py:306: UserWarning: Dataset has 0 variance; skipping density estimate.\n",
      "  warnings.warn(msg, UserWarning)\n",
      "C:\\Users\\loket\\anaconda3\\lib\\site-packages\\seaborn\\distributions.py:306: UserWarning: Dataset has 0 variance; skipping density estimate.\n",
      "  warnings.warn(msg, UserWarning)\n",
      "C:\\Users\\loket\\anaconda3\\lib\\site-packages\\seaborn\\distributions.py:306: UserWarning: Dataset has 0 variance; skipping density estimate.\n",
      "  warnings.warn(msg, UserWarning)\n",
      "C:\\Users\\loket\\anaconda3\\lib\\site-packages\\seaborn\\distributions.py:306: UserWarning: Dataset has 0 variance; skipping density estimate.\n",
      "  warnings.warn(msg, UserWarning)\n",
      "C:\\Users\\loket\\anaconda3\\lib\\site-packages\\seaborn\\distributions.py:306: UserWarning: Dataset has 0 variance; skipping density estimate.\n",
      "  warnings.warn(msg, UserWarning)\n",
      "C:\\Users\\loket\\anaconda3\\lib\\site-packages\\seaborn\\distributions.py:306: UserWarning: Dataset has 0 variance; skipping density estimate.\n",
      "  warnings.warn(msg, UserWarning)\n",
      "C:\\Users\\loket\\anaconda3\\lib\\site-packages\\seaborn\\distributions.py:306: UserWarning: Dataset has 0 variance; skipping density estimate.\n",
      "  warnings.warn(msg, UserWarning)\n",
      "C:\\Users\\loket\\anaconda3\\lib\\site-packages\\seaborn\\distributions.py:306: UserWarning: Dataset has 0 variance; skipping density estimate.\n",
      "  warnings.warn(msg, UserWarning)\n",
      "C:\\Users\\loket\\anaconda3\\lib\\site-packages\\seaborn\\distributions.py:306: UserWarning: Dataset has 0 variance; skipping density estimate.\n",
      "  warnings.warn(msg, UserWarning)\n",
      "C:\\Users\\loket\\anaconda3\\lib\\site-packages\\seaborn\\distributions.py:306: UserWarning: Dataset has 0 variance; skipping density estimate.\n",
      "  warnings.warn(msg, UserWarning)\n",
      "C:\\Users\\loket\\anaconda3\\lib\\site-packages\\seaborn\\distributions.py:306: UserWarning: Dataset has 0 variance; skipping density estimate.\n",
      "  warnings.warn(msg, UserWarning)\n",
      "C:\\Users\\loket\\anaconda3\\lib\\site-packages\\seaborn\\distributions.py:306: UserWarning: Dataset has 0 variance; skipping density estimate.\n",
      "  warnings.warn(msg, UserWarning)\n",
      "C:\\Users\\loket\\anaconda3\\lib\\site-packages\\seaborn\\distributions.py:306: UserWarning: Dataset has 0 variance; skipping density estimate.\n",
      "  warnings.warn(msg, UserWarning)\n",
      "C:\\Users\\loket\\anaconda3\\lib\\site-packages\\seaborn\\distributions.py:306: UserWarning: Dataset has 0 variance; skipping density estimate.\n",
      "  warnings.warn(msg, UserWarning)\n",
      "C:\\Users\\loket\\anaconda3\\lib\\site-packages\\seaborn\\distributions.py:306: UserWarning: Dataset has 0 variance; skipping density estimate.\n",
      "  warnings.warn(msg, UserWarning)\n",
      "C:\\Users\\loket\\anaconda3\\lib\\site-packages\\seaborn\\distributions.py:306: UserWarning: Dataset has 0 variance; skipping density estimate.\n",
      "  warnings.warn(msg, UserWarning)\n",
      "C:\\Users\\loket\\anaconda3\\lib\\site-packages\\seaborn\\distributions.py:306: UserWarning: Dataset has 0 variance; skipping density estimate.\n",
      "  warnings.warn(msg, UserWarning)\n",
      "C:\\Users\\loket\\anaconda3\\lib\\site-packages\\seaborn\\distributions.py:306: UserWarning: Dataset has 0 variance; skipping density estimate.\n",
      "  warnings.warn(msg, UserWarning)\n",
      "C:\\Users\\loket\\anaconda3\\lib\\site-packages\\seaborn\\distributions.py:306: UserWarning: Dataset has 0 variance; skipping density estimate.\n",
      "  warnings.warn(msg, UserWarning)\n",
      "C:\\Users\\loket\\anaconda3\\lib\\site-packages\\seaborn\\distributions.py:306: UserWarning: Dataset has 0 variance; skipping density estimate.\n",
      "  warnings.warn(msg, UserWarning)\n",
      "C:\\Users\\loket\\anaconda3\\lib\\site-packages\\seaborn\\distributions.py:306: UserWarning: Dataset has 0 variance; skipping density estimate.\n",
      "  warnings.warn(msg, UserWarning)\n",
      "C:\\Users\\loket\\anaconda3\\lib\\site-packages\\seaborn\\distributions.py:306: UserWarning: Dataset has 0 variance; skipping density estimate.\n",
      "  warnings.warn(msg, UserWarning)\n",
      "C:\\Users\\loket\\anaconda3\\lib\\site-packages\\seaborn\\distributions.py:306: UserWarning: Dataset has 0 variance; skipping density estimate.\n",
      "  warnings.warn(msg, UserWarning)\n",
      "C:\\Users\\loket\\anaconda3\\lib\\site-packages\\seaborn\\distributions.py:306: UserWarning: Dataset has 0 variance; skipping density estimate.\n",
      "  warnings.warn(msg, UserWarning)\n",
      "C:\\Users\\loket\\anaconda3\\lib\\site-packages\\seaborn\\distributions.py:306: UserWarning: Dataset has 0 variance; skipping density estimate.\n",
      "  warnings.warn(msg, UserWarning)\n",
      "C:\\Users\\loket\\anaconda3\\lib\\site-packages\\seaborn\\distributions.py:306: UserWarning: Dataset has 0 variance; skipping density estimate.\n",
      "  warnings.warn(msg, UserWarning)\n",
      "C:\\Users\\loket\\anaconda3\\lib\\site-packages\\seaborn\\distributions.py:306: UserWarning: Dataset has 0 variance; skipping density estimate.\n",
      "  warnings.warn(msg, UserWarning)\n",
      "C:\\Users\\loket\\anaconda3\\lib\\site-packages\\seaborn\\distributions.py:306: UserWarning: Dataset has 0 variance; skipping density estimate.\n",
      "  warnings.warn(msg, UserWarning)\n",
      "C:\\Users\\loket\\anaconda3\\lib\\site-packages\\seaborn\\distributions.py:306: UserWarning: Dataset has 0 variance; skipping density estimate.\n",
      "  warnings.warn(msg, UserWarning)\n",
      "C:\\Users\\loket\\anaconda3\\lib\\site-packages\\seaborn\\distributions.py:306: UserWarning: Dataset has 0 variance; skipping density estimate.\n",
      "  warnings.warn(msg, UserWarning)\n",
      "C:\\Users\\loket\\anaconda3\\lib\\site-packages\\seaborn\\distributions.py:306: UserWarning: Dataset has 0 variance; skipping density estimate.\n",
      "  warnings.warn(msg, UserWarning)\n",
      "C:\\Users\\loket\\anaconda3\\lib\\site-packages\\seaborn\\distributions.py:306: UserWarning: Dataset has 0 variance; skipping density estimate.\n",
      "  warnings.warn(msg, UserWarning)\n",
      "C:\\Users\\loket\\anaconda3\\lib\\site-packages\\seaborn\\distributions.py:306: UserWarning: Dataset has 0 variance; skipping density estimate.\n",
      "  warnings.warn(msg, UserWarning)\n",
      "C:\\Users\\loket\\anaconda3\\lib\\site-packages\\seaborn\\distributions.py:306: UserWarning: Dataset has 0 variance; skipping density estimate.\n",
      "  warnings.warn(msg, UserWarning)\n",
      "C:\\Users\\loket\\anaconda3\\lib\\site-packages\\seaborn\\distributions.py:306: UserWarning: Dataset has 0 variance; skipping density estimate.\n",
      "  warnings.warn(msg, UserWarning)\n",
      "C:\\Users\\loket\\anaconda3\\lib\\site-packages\\seaborn\\distributions.py:306: UserWarning: Dataset has 0 variance; skipping density estimate.\n",
      "  warnings.warn(msg, UserWarning)\n",
      "C:\\Users\\loket\\anaconda3\\lib\\site-packages\\seaborn\\distributions.py:306: UserWarning: Dataset has 0 variance; skipping density estimate.\n",
      "  warnings.warn(msg, UserWarning)\n",
      "C:\\Users\\loket\\anaconda3\\lib\\site-packages\\seaborn\\distributions.py:306: UserWarning: Dataset has 0 variance; skipping density estimate.\n",
      "  warnings.warn(msg, UserWarning)\n",
      "C:\\Users\\loket\\anaconda3\\lib\\site-packages\\seaborn\\distributions.py:306: UserWarning: Dataset has 0 variance; skipping density estimate.\n",
      "  warnings.warn(msg, UserWarning)\n",
      "C:\\Users\\loket\\anaconda3\\lib\\site-packages\\seaborn\\distributions.py:306: UserWarning: Dataset has 0 variance; skipping density estimate.\n",
      "  warnings.warn(msg, UserWarning)\n",
      "C:\\Users\\loket\\anaconda3\\lib\\site-packages\\seaborn\\distributions.py:306: UserWarning: Dataset has 0 variance; skipping density estimate.\n",
      "  warnings.warn(msg, UserWarning)\n",
      "C:\\Users\\loket\\anaconda3\\lib\\site-packages\\seaborn\\distributions.py:306: UserWarning: Dataset has 0 variance; skipping density estimate.\n",
      "  warnings.warn(msg, UserWarning)\n",
      "C:\\Users\\loket\\anaconda3\\lib\\site-packages\\seaborn\\distributions.py:306: UserWarning: Dataset has 0 variance; skipping density estimate.\n",
      "  warnings.warn(msg, UserWarning)\n",
      "C:\\Users\\loket\\anaconda3\\lib\\site-packages\\seaborn\\distributions.py:306: UserWarning: Dataset has 0 variance; skipping density estimate.\n",
      "  warnings.warn(msg, UserWarning)\n",
      "C:\\Users\\loket\\anaconda3\\lib\\site-packages\\seaborn\\distributions.py:306: UserWarning: Dataset has 0 variance; skipping density estimate.\n",
      "  warnings.warn(msg, UserWarning)\n",
      "C:\\Users\\loket\\anaconda3\\lib\\site-packages\\seaborn\\distributions.py:306: UserWarning: Dataset has 0 variance; skipping density estimate.\n",
      "  warnings.warn(msg, UserWarning)\n",
      "C:\\Users\\loket\\anaconda3\\lib\\site-packages\\seaborn\\distributions.py:306: UserWarning: Dataset has 0 variance; skipping density estimate.\n",
      "  warnings.warn(msg, UserWarning)\n",
      "C:\\Users\\loket\\anaconda3\\lib\\site-packages\\seaborn\\distributions.py:306: UserWarning: Dataset has 0 variance; skipping density estimate.\n",
      "  warnings.warn(msg, UserWarning)\n"
     ]
    },
    {
     "data": {
      "text/plain": [
       "<seaborn.axisgrid.PairGrid at 0x19706008070>"
      ]
     },
     "execution_count": 84,
     "metadata": {},
     "output_type": "execute_result"
    },
    {
     "data": {
      "image/png": "[encoded data removed]",
      "text/plain": [
       "<Figure size 418.25x360 with 6 Axes>"
      ]
     },
     "metadata": {
      "needs_background": "light"
     },
     "output_type": "display_data"
    }
   ],
   "source": [
    "sns.pairplot(df,vars=('prep_time','cook_time'),hue='total_time')"
   ]
  },
  {
   "cell_type": "code",
   "execution_count": null,
   "id": "fad9e7b4",
   "metadata": {},
   "outputs": [],
   "source": []
  }
 ],
 "metadata": {
  "kernelspec": {
   "display_name": "Python 3",
   "language": "python",
   "name": "python3"
  },
  "language_info": {
   "codemirror_mode": {
    "name": "ipython",
    "version": 3
   },
   "file_extension": ".py",
   "mimetype": "text/x-python",
   "name": "python",
   "nbconvert_exporter": "python",
   "pygments_lexer": "ipython3",
   "version": "3.8.8"
  }
 },
 "nbformat": 4,
 "nbformat_minor": 5
}
